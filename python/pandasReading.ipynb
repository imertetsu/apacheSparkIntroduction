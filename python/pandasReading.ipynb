{
 "cells": [
  {
   "cell_type": "markdown",
   "metadata": {},
   "source": [
    "<h1>Introduction to Pandas for Data Analysis</h1>"
   ]
  },
  {
   "cell_type": "markdown",
   "metadata": {},
   "source": [
    "<h3>Objectives</h3>\n",
    "<hr>\n",
    "<ol>\n",
    "    <li>Learn what Pandas Series are and how to create them.</li>\n",
    "    <li>Understand how to access and manipulate data within a Series.</li>\n",
    "    <li>Discover the basics of creating and working with Pandas DataFrames.</li>\n",
    "    <li>Learn how to access, modify, and analyze data in DataFrames.</li>\n",
    "    <li>Gain insights into common DataFrame attributes and methods.</li>\n",
    "</ol>"
   ]
  },
  {
   "cell_type": "markdown",
   "metadata": {},
   "source": [
    "<h3>What is Pandas?</h3>\n",
    "<hr>\n",
    "Pandas is a popular open-source data manipulation and analysis library for the Python programming language. It provides a powerful and flexible set of tools for working with structured data, making it a fundamental tool for data scientists, analysts, and engineers.\n",
    "Pandas is designed to handle data in various formats, such as tabular data, time series data, and more, making it an essential part of the data processing workflow in many industries.\n",
    "\n",
    "Here are some key features and functionalities of Pandas:\n",
    "\n",
    "Data Structures: Pandas offers two primary data structures - DataFrame and Series.\n",
    "\n",
    "<li>A DataFrame is a two-dimensional, size-mutable, and potentially heterogeneous tabular data structure with labeled axes (rows and columns).</li>\n",
    "<li>A Series is a one-dimensional labeled array, essentially a single column or row of data.</li>\n",
    "\n",
    "Data Import and Export: Pandas makes it easy to read data from various sources, including CSV files, Excel spreadsheets, SQL databases, and more. It can also export data to these formats, enabling seamless data exchange.\n",
    "\n",
    "Data Merging and Joining: You can combine multiple DataFrames using methods like merge and join, similar to SQL operations, to create more complex datasets from different sources.\n",
    "\n",
    "Efficient Indexing: Pandas provides efficient indexing and selection methods, allowing you to access specific rows and columns of data quickly.\n",
    "\n",
    "Custom Data Structures: You can create custom data structures and manipulate data in ways that suit your specific needs, extending Pandas' capabilities."
   ]
  },
  {
   "cell_type": "code",
   "execution_count": null,
   "metadata": {},
   "outputs": [],
   "source": [
    "import pandas as pd"
   ]
  },
  {
   "cell_type": "code",
   "execution_count": null,
   "metadata": {},
   "outputs": [],
   "source": [
    "import pandas as pd\n",
    "# Read the CSV file into a DataFrame\n",
    "df = pd.read_csv('your_file.csv')"
   ]
  },
  {
   "cell_type": "markdown",
   "metadata": {},
   "source": [
    "<h3>What is a Series?</h3>\n",
    "<hr>\n",
    "\n",
    "A Series is a one-dimensional labeled array in Pandas. It can be thought of as a single column of data with labels or indices for each element. You can create a Series from various data sources, such as lists, NumPy arrays, or dictionaries\n",
    "Here's a basic example of creating a Series in Pandas:"
   ]
  },
  {
   "cell_type": "code",
   "execution_count": null,
   "metadata": {},
   "outputs": [],
   "source": [
    "import pandas as pd\n",
    "# Create a Series from a list\n",
    "data = [10, 20, 30, 40, 50]\n",
    "s = pd.Series(data)\n",
    "print(s)\n",
    "\n",
    "print(s[2])     # Access the element with label 2 (value 30)\n",
    "\n",
    "print(s.iloc[3]) # Access the element at position 3 (value 40)\n",
    "\n",
    "print(s[1:4])   # Access a range of elements by label"
   ]
  },
  {
   "cell_type": "markdown",
   "metadata": {},
   "source": [
    "<h3>Series Attributes and Methods</h3><hr>\n",
    "\n",
    "Pandas Series come with various attributes and methods to help you manipulate and analyze data effectively. Here are a few essential ones:\n",
    "\n",
    "<li>values: Returns the Series data as a NumPy array.</li>\n",
    "<li>index: Returns the index (labels) of the Series.</li>\n",
    "<li>shape: Returns a tuple representing the dimensions of the Series.</li>\n",
    "<li>size: Returns the number of elements in the Series.</li>\n",
    "<li>mean(), sum(), min(), max(): Calculate summary statistics of the data.</li>\n",
    "<li>unique(), nunique(): Get unique values or the number of unique values.</li>\n",
    "<li>sort_values(), sort_index(): Sort the Series by values or index labels.</li>\n",
    "<li>isnull(), notnull(): Check for missing (NaN) or non-missing values.</li>\n",
    "<li>apply(): Apply a custom function to each element of the Series.</li>\n",
    "\n",
    "\n",
    "\n",
    "\n"
   ]
  },
  {
   "cell_type": "markdown",
   "metadata": {},
   "source": [
    "<h3>What is a DataFrames?</h3><hr>\n",
    "\n",
    "A DataFrame is a two-dimensional labeled data structure with columns of potentially different data types. Think of it as a table where each column represents a variable, and each row represents an observation or data point. DataFrames are suitable for a wide range of data, including structured data from CSV files, Excel spreadsheets, SQL databases, and more."
   ]
  },
  {
   "cell_type": "code",
   "execution_count": null,
   "metadata": {},
   "outputs": [],
   "source": [
    "import pandas as pd\n",
    "# Creating a DataFrame from a dictionary\n",
    "data = {'Name': ['Alice', 'Bob', 'Charlie', 'David'],\n",
    "        'Age': [25, 30, 35, 28],\n",
    "        'City': ['New York', 'San Francisco', 'Los Angeles', 'Chicago']}\n",
    "df = pd.DataFrame(data)\n",
    "print(df)\n",
    "\n",
    "print(df['Name'])  # Access the 'Name' column\n",
    "\n",
    "print(df.iloc[2])   # Access the third row by position\n",
    "print(df.loc[1])    # Access the second row by label\n",
    "\n",
    "print(df[['Name', 'Age']])  # Select specific columns\n",
    "print(df[1:3])             # Select specific rows\n",
    "\n",
    "unique_dates = df['Age'].unique() #Finding Unique Elements\n",
    "\n",
    "high_above_102 = df[df['Age'] > 25] #Conditional Filtering\n",
    "\n",
    "df.to_csv('trading_data.csv', index=False) #Saving DataFramesSaving DataFrames"
   ]
  },
  {
   "cell_type": "markdown",
   "metadata": {},
   "source": [
    "<h3>DataFrame Attributes and Methods\n",
    "</h3><hr>\n",
    "\n",
    "DataFrames provide numerous attributes and methods for data manipulation and analysis, including:\n",
    "\n",
    "<li>shape: Returns the dimensions (number of rows and columns) of the DataFrame.\n",
    "</li>\n",
    "<li>info(): Provides a summary of the DataFrame, including data types and non-null counts.\n",
    "</li>\n",
    "<li>describe(): Generates summary statistics for numerical columns.\n",
    "</li>\n",
    "<li>head(), tail(): Displays the first or last n rows of the DataFrame.\n",
    "</li>\n",
    "<li>mean(), sum(), min(), max(): Calculate summary statistics for columns.\n",
    "</li>\n",
    "<li>sort_values(): Sort the DataFrame by one or more columns.\n",
    "</li>\n",
    "<li>groupby(): Group data based on specific columns for aggregation.\n",
    "</li>\n",
    "<li>fillna(), drop(), rename(): Handle missing values, drop columns, or rename columns.\n",
    "</li>\n",
    "<li>apply(): Apply a function to each element, row, or column of the DataFrame.\n",
    "</li>\n",
    "<a href=\"https://pandas.pydata.org/docs/\">Pandas Official website</a>\n"
   ]
  },
  {
   "cell_type": "markdown",
   "metadata": {},
   "source": [
    "<h3>Conclusion</h3><hr>\n",
    "\n",
    "In conclusion, mastering the use of Pandas Series and DataFrames is essential for effective data manipulation and analysis in Python. Series provide a foundation for handling one-dimensional data with labels, while DataFrames offer a versatile, table-like structure for working with two-dimensional data. Whether you're cleaning, exploring, transforming, or analyzing data, these Pandas data structures, along with their attributes and methods, empower you to efficiently and flexibly manipulate data to derive valuable insights. By incorporating Series and DataFrames into your data science toolkit, you'll be well-prepared to tackle a wide range of data-related tasks and enhance your data analysis capabilities.\n",
    "To further your skills in data analysis with Pandas, consider the following next steps:\n",
    "\n",
    "Practice:\n",
    "Work with real datasets to apply what you've learned and gain hands-on experience.\n",
    "\n",
    "Explore Documentation:\n",
    "Visit the Pandas official website to explore the extensive documentation and discover more functions and methods."
   ]
  }
 ],
 "metadata": {
  "language_info": {
   "name": "python"
  }
 },
 "nbformat": 4,
 "nbformat_minor": 2
}
